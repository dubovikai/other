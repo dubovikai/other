{
 "cells": [
  {
   "cell_type": "code",
   "execution_count": 1,
   "metadata": {},
   "outputs": [
    {
     "name": "stdout",
     "output_type": "stream",
     "text": [
      "07:48:37: Начало...\n",
      "07:48:38: Соединение с *** установлено...\n",
      "07:48:38: Прочитан SQL из файла списка клиентов (client_list.sql)...\n",
      "07:48:38: Прочитан SQL из файла активности клиента (client_activity.sql)...\n"
     ]
    }
   ],
   "source": [
    "import time\n",
    "import pandas as pd\n",
    "import cx_Oracle\n",
    "\n",
    "def set_comment(txt):\n",
    "    print(time.strftime(\"%H:%M:%S\")+': '+txt)\n",
    "\n",
    "set_comment('Начало...')\n",
    "\n",
    "try:\n",
    "    conn_balu_rez.ping()\n",
    "    set_comment('Соединение с *** проверено...')\n",
    "except:\n",
    "    dsn_tns = cx_Oracle.makedsn(host='***', port=***, service_name='***')\n",
    "    conn_balu_rez = cx_Oracle.connect(user='***', password='***', dsn=dsn_tns, encoding='UTF-8')\n",
    "    set_comment('Соединение с *** установлено...')\n",
    "\n",
    "sql_file = open('client_list.sql','r')\n",
    "sql_client_list = sql_file.read()\n",
    "sql_file.close()\n",
    "set_comment('Прочитан SQL из файла списка клиентов (client_list.sql)...')\n",
    "\n",
    "#Выгрузка списка клиентов; percentage - целое число, процент от полной выборки\n",
    "def get_client_list(percentage = 100):\n",
    "    if conn_balu_rez is None:\n",
    "        set_comment('Нет соединения с БД')\n",
    "        return None\n",
    "    else:\n",
    "        time_start = time.time()\n",
    "\n",
    "        set_comment('Начало чтения данных')  \n",
    "        #входной параметр - приблизительная доля клиентов для обработки\n",
    "        if percentage < 100:\n",
    "            sql_to_execute = sql_client_list+'\\n and mod(cl.id,100) < '+str(percentage)\n",
    "        else:\n",
    "            sql_to_execute = sql_client_list\n",
    "\n",
    "        df_client_list = pd.read_sql(sql=sql_to_execute, con=conn_balu_rez)  \n",
    "\n",
    "        set_comment('Время выполнения, сек - '+str(round(time.time() - time_start,3)))\n",
    "        set_comment('Для анализа отобрано клиентов, шт - '+str(df_client_list.CL_ID.count()))\n",
    "        return df_client_list\n",
    "    \n",
    "sql_file = open('client_activity.sql','r')\n",
    "sql_client_activity = sql_file.read()\n",
    "sql_file.close()\n",
    "set_comment('Прочитан SQL из файла активности клиента (client_activity.sql)...')\n",
    "\n",
    "#Получение списка счетов клиента и активности по ним по его ИД\n",
    "def get_client_activity(cl_id):\n",
    "    if conn_balu_rez is None:\n",
    "        set_comment('Нет соединения с БД')\n",
    "        return None\n",
    "    else:\n",
    "        v_ret = pd.read_sql(sql=sql_client_activity, con=conn_balu_rez, params = {'cl_id':cl_id})\n",
    "        return v_ret\n",
    "\n",
    "def dich_ne_rabotaet_v_jupyter(threads_number, cl_id_list):\n",
    "    from multiprocessing import Pool\n",
    "    workers = Pool(threads_number)\n",
    "    results = workers.map(get_client_activity, cl_id_list)\n",
    "\n",
    "    workers.close()\n",
    "    workers.join()\n",
    "    return results"
   ]
  },
  {
   "cell_type": "code",
   "execution_count": null,
   "metadata": {},
   "outputs": [],
   "source": []
  },
  {
   "cell_type": "code",
   "execution_count": 2,
   "metadata": {},
   "outputs": [
    {
     "name": "stdout",
     "output_type": "stream",
     "text": [
      "07:48:44: Начало чтения данных\n",
      "07:51:46: Время выполнения, сек - 181.272\n",
      "07:51:46: Для анализа отобрано клиентов, шт - 65926\n"
     ]
    }
   ],
   "source": [
    "all_clients = get_client_list()"
   ]
  },
  {
   "cell_type": "code",
   "execution_count": 3,
   "metadata": {},
   "outputs": [
    {
     "name": "stdout",
     "output_type": "stream",
     "text": [
      "09:46:25: Подготовка к обработке произведена\n"
     ]
    }
   ],
   "source": [
    "import workers as w\n",
    "from multiprocessing import Process, Queue\n",
    "from ipywidgets import IntProgress\n",
    "from IPython.display import display\n",
    "\n",
    "#Не забыть выпилить перезагрузку модуля:\n",
    "#from importlib import reload\n",
    "#reload(w)\n",
    "\n",
    "def proc_clients_in_thread(clients, thread_number):\n",
    "    #Инициация переменных:\n",
    "    time_start = time.time()\n",
    "    \n",
    "    #Очередь сообщений от потоков:\n",
    "    que_mess = Queue()\n",
    "\n",
    "    #Очередь необработанных ИД клиентов\n",
    "    que_for_proc  = Queue()\n",
    "\n",
    "    #Очередь результатов обработки \n",
    "    que_done = Queue()\n",
    "\n",
    "    #Формирование очереди к обработке\n",
    "    for i in clients:\n",
    "        que_for_proc.put(i)\n",
    "        \n",
    "    #Инициация прогрессбаров\n",
    "    que_for_proc_load = IntProgress(min=0, max=que_for_proc.qsize(), value=que_for_proc.qsize())\n",
    "    que_for_proc_load.bar_style = 'info'\n",
    "    que_for_proc_load.description = 'FP '+str(que_for_proc.qsize())\n",
    "    display(que_for_proc_load)\n",
    "    \n",
    "    que_mess_load = IntProgress(min=0, max=0, value=0)\n",
    "    que_mess_load.bar_style = 'info'\n",
    "    que_mess_load.description = 'M 0'\n",
    "    display(que_mess_load)\n",
    "\n",
    "    que_done_load = IntProgress(min=0, max=0, value=0)\n",
    "    que_done_load.bar_style = 'info'\n",
    "    que_done_load.description = 'D 0'\n",
    "    display(que_done_load)    \n",
    "    \n",
    "    set_comment('Принято к обработке клиентов, шт - '+str(clients.count()))\n",
    "    \n",
    "    is_alive = True\n",
    "    result = None\n",
    "    procs = []\n",
    "    df_list = []\n",
    "    \n",
    "    #Пока, есть живые процессы или невычитанные очереди\n",
    "    while is_alive or not que_mess.empty() or not que_done.empty():\n",
    "        if len(procs) < thread_number:    \n",
    "            proc = Process(target=w.do_request, args=(que_mess,que_for_proc,que_done,sql_client_activity))\n",
    "            procs.append(proc)\n",
    "            proc.start()\n",
    "            \n",
    "            #Конфетка с привкусом миндаля\n",
    "            que_for_proc.put('PLEASE_DIE')\n",
    "   \n",
    "        #Тыкаем потоки палочкой, если не огрызаются - мертвы\n",
    "        is_alive = False\n",
    "        for proc in procs:\n",
    "            if proc.is_alive():\n",
    "                is_alive = True\n",
    "    \n",
    "        #Проверка очереди сообщений   \n",
    "        if not que_mess.empty():\n",
    "            print(que_mess.get())\n",
    "\n",
    "        #Проверка очереди результатов\n",
    "        if not que_done.empty():\n",
    "            df_list.append(que_done.get())\n",
    "\n",
    "        que_for_proc_load.value = que_for_proc.qsize()\n",
    "        que_for_proc_load.description = 'FP '+str(que_for_proc.qsize())\n",
    "        \n",
    "        if que_mess.qsize() > que_mess_load.max:\n",
    "            que_mess_load.max = que_mess.qsize() \n",
    "        que_mess_load.value = que_mess.qsize()\n",
    "        que_mess_load.description = 'M '+str(que_mess.qsize())\n",
    "        \n",
    "        if que_done.qsize() > que_done_load.max:\n",
    "            que_done_load.max = que_done.qsize() \n",
    "        que_done_load.value = que_done.qsize()\n",
    "        que_done_load.description = 'D '+str(que_done.qsize())\n",
    "\n",
    "    que_mess.close()\n",
    "    que_for_proc.close()\n",
    "    que_done.close()\n",
    "    \n",
    "    set_comment('Сборка результата')\n",
    "    result = pd.concat(df_list,ignore_index = True)\n",
    "    \n",
    "    set_comment('Время обработки, сек - '+str(round(time.time()-time_start,3)))\n",
    "    \n",
    "    return result\n",
    "set_comment('Подготовка к обработке произведена')"
   ]
  },
  {
   "cell_type": "code",
   "execution_count": 4,
   "metadata": {},
   "outputs": [
    {
     "data": {
      "application/vnd.jupyter.widget-view+json": {
       "model_id": "f339d18d3c4c4701b66f5523f45ebd5a",
       "version_major": 2,
       "version_minor": 0
      },
      "text/plain": [
       "IntProgress(value=65926, bar_style='info', description='FP 65926', max=65926)"
      ]
     },
     "metadata": {},
     "output_type": "display_data"
    },
    {
     "data": {
      "application/vnd.jupyter.widget-view+json": {
       "model_id": "7d30c341a90c4de5a9cdfc57e1c1abdf",
       "version_major": 2,
       "version_minor": 0
      },
      "text/plain": [
       "IntProgress(value=0, bar_style='info', description='M 0', max=0)"
      ]
     },
     "metadata": {},
     "output_type": "display_data"
    },
    {
     "data": {
      "application/vnd.jupyter.widget-view+json": {
       "model_id": "da15a07dc8694dadb49e7f8ebe19b8ee",
       "version_major": 2,
       "version_minor": 0
      },
      "text/plain": [
       "IntProgress(value=0, bar_style='info', description='D 0', max=0)"
      ]
     },
     "metadata": {},
     "output_type": "display_data"
    },
    {
     "name": "stdout",
     "output_type": "stream",
     "text": [
      "09:46:33: Принято к обработке клиентов, шт - 65926\n",
      "3996: 09:46:46: Подключился к ***...\n",
      "1912: 09:46:53: Подключился к ***...\n",
      "12224: 09:47:01: Подключился к ***...\n",
      "13212: 09:47:09: Подключился к ***...\n",
      "11004: 09:47:16: Подключился к ***...\n",
      "11528: 09:47:25: Подключился к ***...\n",
      "6616: 09:47:33: Подключился к ***...\n",
      "13268: 09:47:41: Подключился к ***...\n",
      "12228: 09:47:50: Подключился к ***...\n",
      "4332: 09:47:57: Подключился к ***...\n",
      "2740: 09:48:05: Подключился к ***...\n",
      "12796: 09:48:13: Подключился к ***...\n",
      "12600: 09:48:20: Подключился к ***...\n",
      "10620: 09:48:28: Подключился к ***...\n",
      "10268: 09:48:36: Подключился к ***...\n",
      "10620: 10:26:05: Соединение с *** закрыто...\n",
      "10268: 10:26:05: Соединение с *** закрыто...\n",
      "12224: 10:26:05: Соединение с *** закрыто...\n",
      "1912: 10:26:05: Соединение с *** закрыто...\n",
      "12600: 10:26:05: Соединение с *** закрыто...\n",
      "11528: 10:26:05: Соединение с *** закрыто...\n",
      "12228: 10:26:05: Соединение с *** закрыто...\n",
      "13212: 10:26:05: Соединение с *** закрыто...\n",
      "12796: 10:26:08: Соединение с *** закрыто...\n",
      "13268: 10:26:13: Соединение с *** закрыто...\n",
      "3996: 10:26:43: Соединение с *** закрыто...\n",
      "6616: 10:27:30: Соединение с *** закрыто...\n",
      "11004: 10:30:26: Соединение с *** закрыто...\n",
      "4332: 10:41:46: Соединение с *** закрыто...\n",
      "2740: 10:41:52: Соединение с *** закрыто...\n",
      "10:41:53: Сборка результата\n",
      "10:56:35: Время обработки, сек - 4203.021\n"
     ]
    }
   ],
   "source": [
    "res = proc_clients_in_thread(all_clients.CL_ID,15)"
   ]
  },
  {
   "cell_type": "code",
   "execution_count": 5,
   "metadata": {},
   "outputs": [
    {
     "data": {
      "text/plain": [
       "828344"
      ]
     },
     "execution_count": 5,
     "metadata": {},
     "output_type": "execute_result"
    }
   ],
   "source": [
    "res.CL_ID.memory_usage()"
   ]
  },
  {
   "cell_type": "code",
   "execution_count": 18,
   "metadata": {},
   "outputs": [
    {
     "data": {
      "text/plain": [
       "61.666666666666664"
      ]
     },
     "execution_count": 18,
     "metadata": {},
     "output_type": "execute_result"
    }
   ],
   "source": [
    "3700/60"
   ]
  },
  {
   "cell_type": "code",
   "execution_count": null,
   "metadata": {},
   "outputs": [],
   "source": [
    "for i in res.ARRAY_NAZN_SUM_DT:\n",
    "    if i != '[]':\n",
    "        print(i)"
   ]
  },
  {
   "cell_type": "code",
   "execution_count": null,
   "metadata": {},
   "outputs": [],
   "source": [
    "#Для работы с выгружаемыми JSON\n",
    "j = json.loads(data.OKVEDS_50[0])\n",
    "#j - список словарей Python\n",
    "for i in j:\n",
    "    print(i['okv'])\n",
    "\n",
    "#Экспериментики\n",
    "n = 0\n",
    "cl_activity = None\n",
    "for v_id in all_clients.CL_ID:\n",
    "    if cl_activity is None:\n",
    "        cl_activity = get_client_activity(v_id)\n",
    "    else:\n",
    "        cl_activity = cl_activity.append(get_client_activity(v_id))\n",
    "set_comment('Все данные получены')"
   ]
  }
 ],
 "metadata": {
  "kernelspec": {
   "display_name": "Python 3",
   "language": "python",
   "name": "python3"
  },
  "language_info": {
   "codemirror_mode": {
    "name": "ipython",
    "version": 3
   },
   "file_extension": ".py",
   "mimetype": "text/x-python",
   "name": "python",
   "nbconvert_exporter": "python",
   "pygments_lexer": "ipython3",
   "version": "3.7.4"
  }
 },
 "nbformat": 4,
 "nbformat_minor": 2
}
